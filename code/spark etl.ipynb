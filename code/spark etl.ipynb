{
 "cells": [
  {
   "cell_type": "code",
   "execution_count": 1,
   "metadata": {
    "collapsed": true
   },
   "outputs": [],
   "source": [
    "from pyspark import SparkContext"
   ]
  },
  {
   "cell_type": "code",
   "execution_count": 2,
   "metadata": {
    "collapsed": false
   },
   "outputs": [],
   "source": [
    "sc = SparkContext()"
   ]
  },
  {
   "cell_type": "code",
   "execution_count": 14,
   "metadata": {
    "collapsed": true
   },
   "outputs": [],
   "source": [
    "MEDIA_ID = 3\n",
    "TS_LISTEN = 2\n",
    "USER_ID = 12"
   ]
  },
  {
   "cell_type": "code",
   "execution_count": 15,
   "metadata": {
    "collapsed": false
   },
   "outputs": [],
   "source": [
    "def sort_and_add_count(lists):\n",
    "    if len(lists) == 1:\n",
    "        lists[0].extend(['0', ''])\n",
    "        return lists\n",
    "    lists = sorted(lists, key=lambda x: x[TS_LISTEN])\n",
    "    lists = list(map(lambda x: x[0]+[str(x[1])], zip(lists, range(len(lists)))))\n",
    "    lists[0].append('')\n",
    "    lists = [lists[0]] + list(map(lambda x: x[1]+[str(int(x[1][TS_LISTEN])-int(x[0][TS_LISTEN]))], zip(lists[:-1], lists[1:]))) \n",
    "    return lists"
   ]
  },
  {
   "cell_type": "code",
   "execution_count": 16,
   "metadata": {
    "collapsed": false
   },
   "outputs": [],
   "source": [
    "data = sc.textFile('../data/test_without_header.csv')\n",
    "out = data.map(lambda x: x.split(',')) \\\n",
    "    .groupBy(lambda x: (x[MEDIA_ID], x[USER_ID])) \\\n",
    "    .flatMap(lambda x: sort_and_add_count(list(x[1]))) \\\n",
    "    .map(lambda x: ','.join(x)) \\\n",
    "    .saveAsTextFile('file:///Users/khan/datasciencegame/data/spark.csv')"
   ]
  }
 ],
 "metadata": {
  "kernelspec": {
   "display_name": "Python 3",
   "language": "python",
   "name": "python3"
  },
  "language_info": {
   "codemirror_mode": {
    "name": "ipython",
    "version": 3
   },
   "file_extension": ".py",
   "mimetype": "text/x-python",
   "name": "python",
   "nbconvert_exporter": "python",
   "pygments_lexer": "ipython3",
   "version": "3.5.2"
  }
 },
 "nbformat": 4,
 "nbformat_minor": 2
}
